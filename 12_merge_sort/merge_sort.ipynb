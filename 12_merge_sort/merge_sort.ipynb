{
 "cells": [
  {
   "attachments": {},
   "cell_type": "markdown",
   "metadata": {},
   "source": [
    "***Merge Sort***\n",
    "\n",
    "- merge sort is a recursive algorithm that continually splits a list in half\n",
    "\n",
    "- if the list is empty or has one item, it is sorted by definition (the base case)\n",
    "\n",
    "- if the list has more than one item, we split the list and recursively invoke a merge sort on both halves."
   ]
  },
  {
   "attachments": {},
   "cell_type": "markdown",
   "metadata": {},
   "source": [
    "- once the two halves are sorted, the fundamental operation, called a merge, is performed \n",
    "\n",
    "- merging is the process of taking two smaller sorted lists and combining them together into a single, sorted, new list"
   ]
  },
  {
   "cell_type": "code",
   "execution_count": 2,
   "metadata": {},
   "outputs": [
    {
     "name": "stdout",
     "output_type": "stream",
     "text": [
      "merging [23]\n",
      "merging [235]\n",
      "merging [23, 235]\n",
      "merging [63]\n",
      "merging [22]\n",
      "merging [22, 63]\n",
      "merging [22, 23, 63, 235]\n",
      "merging [10]\n",
      "merging [2]\n",
      "merging [2, 10]\n",
      "merging [100]\n",
      "merging [104]\n",
      "merging [100, 104]\n",
      "merging [2, 10, 100, 104]\n",
      "merging [2, 10, 22, 23, 63, 100, 104, 235]\n"
     ]
    },
    {
     "data": {
      "text/plain": [
       "[2, 10, 22, 23, 63, 100, 104, 235]"
      ]
     },
     "execution_count": 2,
     "metadata": {},
     "output_type": "execute_result"
    }
   ],
   "source": [
    "def merge_sort(arr):\n",
    "\n",
    "    if len(arr) > 1:\n",
    "\n",
    "        mid = len(arr)//2\n",
    "        left_half = arr[:mid]\n",
    "        right_half = arr[mid:]\n",
    "\n",
    "        merge_sort(left_half)\n",
    "        merge_sort(right_half)\n",
    "\n",
    "        i = 0\n",
    "        j = 0\n",
    "        k = 0\n",
    "\n",
    "        while i < len(left_half) and j < len(right_half):\n",
    "            if left_half[i] < right_half[j]:\n",
    "                arr[k] = left_half[i]\n",
    "\n",
    "                i += 1\n",
    "            else:\n",
    "                arr[k] = right_half[j]\n",
    "                j += 1\n",
    "\n",
    "            k += 1\n",
    "\n",
    "        while i < len(left_half):\n",
    "            arr[k] = left_half[i]\n",
    "            i += 1\n",
    "            k += 1\n",
    "\n",
    "        while j < len(right_half):\n",
    "            arr[k] = right_half[j]\n",
    "            j += 1\n",
    "            k += 1\n",
    "    \n",
    "    print(f'merging {arr}')\n",
    "            \n",
    "    return arr\n",
    "\n",
    "merge_sort([23,235,63,22,10,2,100,104])"
   ]
  },
  {
   "cell_type": "code",
   "execution_count": null,
   "metadata": {},
   "outputs": [],
   "source": [
    "# with comments\n",
    "\n",
    "def merge_sort(arr):\n",
    "    # Check if the length of the array is greater than 1\n",
    "    if len(arr) > 1:\n",
    "        # Calculate the middle index of the array\n",
    "        mid = len(arr)//2\n",
    "        # Split the array into left and right halves\n",
    "        left_half = arr[:mid]\n",
    "        right_half = arr[mid:]\n",
    "        # Recursively sort the left and right halves\n",
    "        merge_sort(left_half)\n",
    "        merge_sort(right_half)\n",
    "        # Initialize the index variables for the left half, right half and merged array\n",
    "        i = 0\n",
    "        j = 0\n",
    "        k = 0\n",
    "        # Compare and merge the left and right halves into the main array\n",
    "        while i < len(left_half) and j < len(right_half):\n",
    "            if left_half[i] < right_half[j]:\n",
    "                arr[k] = left_half[i]\n",
    "                i += 1\n",
    "            else:\n",
    "                arr[k] = right_half[j]\n",
    "                j += 1\n",
    "            k += 1\n",
    "        # Add any remaining elements from the left half to the main array\n",
    "        while i < len(left_half):\n",
    "            arr[k] = left_half[i]\n",
    "            i += 1\n",
    "            k += 1\n",
    "        # Add any remaining elements from the right half to the main array\n",
    "        while j < len(right_half):\n",
    "            arr[k] = right_half[j]\n",
    "            j += 1\n",
    "            k += 1\n",
    "            \n",
    "    return arr\n",
    "\n",
    "# Call the function with an example array\n",
    "merge_sort([23,235,63,22,10,2,100,104])"
   ]
  },
  {
   "attachments": {},
   "cell_type": "markdown",
   "metadata": {},
   "source": [
    "example - non syntax code\n",
    "\n",
    "k is used through the entire array\n",
    "i is used for the left half of the array\n",
    "j is used for the right half of the array\n",
    "\n",
    "arr = [10,2,6,7]\n",
    "\n",
    "- split array, left-half as left_half\n",
    "- for one instance of merge_sort([10,2]) aka (merge_sort(left_half))\n",
    "- left_half = 10\n",
    "- right_half = 2\n",
    "\n",
    "- set i = 0\n",
    "- set j = 0\n",
    "- set k = 0\n",
    "\n",
    ":) - while i < 1(length of left) and j < 1(length of right)\n",
    "\n",
    ":(      if left[0](i)(10) < right[0](j)(2): (10 < 2)\n",
    "            arr[0](k) = left_half[i](0) aka 10 -> ([10,2])\n",
    "            i += 1\n",
    "        \n",
    ":)      else:\n",
    "            arr[0](k) = right_half[j](0) aka 2 -> ([2,10])\n",
    "            j += 1\n",
    "\n",
    "    k += 1 (keep going through array)\n",
    "\n",
    "        * so one number has been allocated now we have to do the larger one\n",
    "\n",
    "i = 0\n",
    "j = 1\n",
    "k = 1\n",
    "\n",
    ":)   while i < len(left) (1): (0 < 1)\n",
    "        arr[k](1) = left_half[0](10)\n",
    "        i += 1\n",
    "        k += 1\n",
    "\n",
    ":(   while j < len(right) (1): (1 < 1)\n",
    "        X\n",
    "\n",
    "---> [2,10]\n",
    "\n",
    "that was the left half of the original list, recursively the right will return and then\n",
    "you can compare the original left and right [10,2] [6,7]\n"
   ]
  }
 ],
 "metadata": {
  "kernelspec": {
   "display_name": "DSAvenv",
   "language": "python",
   "name": "python3"
  },
  "language_info": {
   "codemirror_mode": {
    "name": "ipython",
    "version": 3
   },
   "file_extension": ".py",
   "mimetype": "text/x-python",
   "name": "python",
   "nbconvert_exporter": "python",
   "pygments_lexer": "ipython3",
   "version": "3.10.5"
  },
  "orig_nbformat": 4,
  "vscode": {
   "interpreter": {
    "hash": "7d9651ea041a7f86d1708c134fe7b1576adb565cac3e8ba7f6dead5d30e55390"
   }
  }
 },
 "nbformat": 4,
 "nbformat_minor": 2
}
