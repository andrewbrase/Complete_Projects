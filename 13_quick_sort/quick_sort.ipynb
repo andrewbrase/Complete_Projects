{
 "cells": [
  {
   "attachments": {},
   "cell_type": "markdown",
   "metadata": {},
   "source": [
    "***Quick Sort***\n",
    "\n",
    "- the quick sort uses device and conquer to gain the same advantages as the merge sort, while not using additional storage.\n",
    "\n",
    "- as a trade off, however, it is possible that the list may not be divided in half\n",
    "\n",
    "- when this happens, we will see that performance is diminished !!!\n",
    "\n",
    "A quick sort first selects a value, which is called the pivot value.\n",
    "\n",
    "The role of the pivot value is to assist with splitting the list\n",
    "\n",
    "the actual position where the pivot value belongs in the final sorted list, commonly called the split point, will be used to divide the list for subsequent calls to the quick sort.\n",
    "\n"
   ]
  },
  {
   "cell_type": "code",
   "execution_count": null,
   "metadata": {},
   "outputs": [],
   "source": [
    "# 54 | 26 | 93 | 17 | 77 | 31 | 44 | 55 | 20 |\n",
    "# 54 will be our first pivot value"
   ]
  },
  {
   "attachments": {},
   "cell_type": "markdown",
   "metadata": {},
   "source": [
    "- the partition process will happen next.\n",
    "\n",
    "- it will find the split point and at the same time move other items to the appropriate side of the list, either less than or greater than the pivot value"
   ]
  },
  {
   "cell_type": "code",
   "execution_count": null,
   "metadata": {},
   "outputs": [],
   "source": [
    "# 54 | 26 | 93 | 17 | 77 | 31 | 44 | 55 | 20 |\n",
    "#  p leftmark ->                        <- rightmark\n"
   ]
  },
  {
   "attachments": {},
   "cell_type": "markdown",
   "metadata": {},
   "source": [
    "now leftmark\n",
    "26 < 54 - move to right\n",
    "93 !< 54 - stop\n",
    "\n",
    "now rightmark\n",
    "20 < 54 - stop "
   ]
  },
  {
   "cell_type": "code",
   "execution_count": null,
   "metadata": {},
   "outputs": [],
   "source": [
    "# 54 | 26 | 93 | 17 | 77 | 31 | 44 | 55 | 20 |\n",
    "# exchange 20 and 93\n",
    "\n",
    "# 54 | 26 | 20 | 17 | 77 | 31 | 44 | 55 | 93 |"
   ]
  },
  {
   "attachments": {},
   "cell_type": "markdown",
   "metadata": {},
   "source": [
    "now continue moving leftmark and rightmark\n",
    "\n",
    "77 > 54 stop\n",
    "44 < 54 stop\n",
    "\n",
    "exchange 77 and 44"
   ]
  },
  {
   "cell_type": "code",
   "execution_count": null,
   "metadata": {},
   "outputs": [],
   "source": [
    "# 54 | 26 | 20 | 17 | 77 | 31 | 44 | 55 | 93 |\n",
    "\n",
    "# vvv\n",
    "\n",
    "# 54 | 26 | 20 | 17 | 44 | 31 | 77 | 55 | 93 |"
   ]
  },
  {
   "attachments": {},
   "cell_type": "markdown",
   "metadata": {},
   "source": [
    "leftmark -> you will keep going until you reach a higher number than the pivot\n",
    "\n",
    "rightmark <- you will keep going until you reach a number lower than the pivot\n",
    "\n",
    "the rightmark will be eventually less than the leftmark"
   ]
  },
  {
   "cell_type": "code",
   "execution_count": null,
   "metadata": {},
   "outputs": [],
   "source": [
    "# 54 | 26 | 20 | 17 | 44 | 31 | 77 | 55 | 93 |\n",
    "# p                        rm   lm\n",
    "#                          split point\n",
    "\n",
    "# exchange 54 pivot and 31 rightmark\n"
   ]
  },
  {
   "cell_type": "code",
   "execution_count": 4,
   "metadata": {},
   "outputs": [
    {
     "data": {
      "text/plain": [
       "[1, 2, 4, 5, 23, 75, 88, 101, 102]"
      ]
     },
     "execution_count": 4,
     "metadata": {},
     "output_type": "execute_result"
    }
   ],
   "source": [
    "def quick_sort(arr):\n",
    "    '''invokes quick sort helper'''\n",
    "    quick_sort_helper(arr,0,len(arr)-1)\n",
    "    return arr\n",
    "\n",
    "def quick_sort_helper(arr,first,last):\n",
    "    if first < last:\n",
    "        split_point = partition(arr,first,last)\n",
    "\n",
    "        quick_sort_helper(arr,first,split_point - 1)\n",
    "        quick_sort_helper(arr,split_point + 1,last)\n",
    "\n",
    "def partition(arr,first,last):\n",
    "    '''will return the split point after these operations'''\n",
    "    pivot_value = arr[first]\n",
    "    \n",
    "    left_mark = first + 1\n",
    "    right_mark = last\n",
    "\n",
    "    done = False\n",
    "\n",
    "    while not done:\n",
    "        while left_mark <= right_mark and arr[left_mark] <= pivot_value:\n",
    "            # left_mark starts moving to the right\n",
    "            left_mark += 1\n",
    "\n",
    "        while arr[right_mark] >= pivot_value and right_mark >= left_mark:\n",
    "            # right_mark starts moving to the left\n",
    "            right_mark -= 1\n",
    "\n",
    "        if right_mark < left_mark:\n",
    "            done = True\n",
    "        \n",
    "        else:\n",
    "            # switch\n",
    "            temp = arr[left_mark]\n",
    "            arr[left_mark] = arr[right_mark]\n",
    "            arr[right_mark] = temp\n",
    "\n",
    "    temp = arr[first]\n",
    "    arr[first] = arr[right_mark]\n",
    "    arr[right_mark] = temp\n",
    "\n",
    "    return right_mark\n",
    "\n",
    "quick_sort([75,23,88,102,101,1,2,5,4])"
   ]
  },
  {
   "cell_type": "code",
   "execution_count": 1,
   "metadata": {},
   "outputs": [
    {
     "data": {
      "text/plain": [
       "[1, 2, 4, 5, 23, 75, 88, 101, 102]"
      ]
     },
     "execution_count": 1,
     "metadata": {},
     "output_type": "execute_result"
    }
   ],
   "source": [
    "def quick_sort(array):\n",
    "    if len(array) <= 1:\n",
    "        return array\n",
    "    else:\n",
    "        pivot = array[0]\n",
    "        less = [x for x in array[1:] if x <= pivot]\n",
    "        greater = [x for x in array[1:] if x > pivot]\n",
    "        return quick_sort(less) + [pivot] + quick_sort(greater)\n",
    "\n",
    "quick_sort([75,23,88,102,101,1,2,5,4])"
   ]
  },
  {
   "cell_type": "code",
   "execution_count": 5,
   "metadata": {},
   "outputs": [
    {
     "data": {
      "text/plain": [
       "[2, 7, 8, 10, 22, 23, 54]"
      ]
     },
     "execution_count": 5,
     "metadata": {},
     "output_type": "execute_result"
    }
   ],
   "source": [
    "# Hoare partition scheme\n",
    "\n",
    "my_arr = [10,2,8,7,23,22,54]\n",
    "\n",
    "def quicksort(A, lo, hi):\n",
    "    if lo >= 0 and hi >= 0 and lo < hi:\n",
    "        p = partition(A, lo, hi)\n",
    "        quicksort(A, lo, p)\n",
    "        quicksort(A, p + 1, hi)\n",
    "        \n",
    "        return A\n",
    "        \n",
    "def partition(A, lo, hi):\n",
    "    pivot = A[(hi + lo) // 2]\n",
    "    i = lo - 1\n",
    "    j = hi + 1\n",
    "    while True:\n",
    "        i += 1\n",
    "        while A[i] < pivot:\n",
    "            i += 1\n",
    "        j -= 1\n",
    "        while A[j] > pivot:\n",
    "            j -= 1\n",
    "        if i >= j:\n",
    "            return j\n",
    "        A[i], A[j] = A[j], A[i]\n",
    "\n",
    "quicksort(my_arr,0,len(my_arr)-1)"
   ]
  },
  {
   "cell_type": "code",
   "execution_count": 6,
   "metadata": {},
   "outputs": [
    {
     "data": {
      "text/plain": [
       "[2, 7, 8, 10, 22, 23, 54]"
      ]
     },
     "execution_count": 6,
     "metadata": {},
     "output_type": "execute_result"
    }
   ],
   "source": [
    "my_arr = [10, 2, 8, 7, 23, 22, 54]\n",
    "\n",
    "def quicksort(A, lo, hi):\n",
    "\n",
    "    # Check if the lower index is non-negative, the upper index is non-negative,\n",
    "    # and the lower index is less than the upper index\n",
    "    if lo >= 0 and hi >= 0 and lo < hi:\n",
    "        \n",
    "        p = partition(A, lo, hi)\n",
    "\n",
    "        # Recursively sort the portion of the array before the pivot\n",
    "        quicksort(A, lo, p)\n",
    "        # Recursively sort the portion of the array after the pivot\n",
    "        quicksort(A, p + 1, hi)\n",
    "    # Return the sorted array\n",
    "    return A\n",
    "        \n",
    "def partition(A, lo, hi):\n",
    "    # Select the pivot as the value in the middle of the portion of the array being sorted\n",
    "    pivot = A[(hi + lo) // 2]\n",
    "    # Initialize the left index\n",
    "    i = lo - 1\n",
    "    # Initialize the right index\n",
    "    j = hi + 1\n",
    "    while True:\n",
    "        # Move the left index to the right at least once and while the element at\n",
    "        # the left index is less than the pivot\n",
    "        i += 1\n",
    "        while A[i] < pivot:\n",
    "            i += 1\n",
    "        # Move the right index to the left at least once and while the element at\n",
    "        # the right index is greater than the pivot\n",
    "        j -= 1\n",
    "        while A[j] > pivot:\n",
    "            j -= 1\n",
    "        # If the indices crossed, return\n",
    "        if i >= j:\n",
    "            return j\n",
    "        # Swap the elements at the left and right indices\n",
    "        A[i], A[j] = A[j], A[i]\n",
    "\n",
    "# Sort the entire array and store the result in my_arr\n",
    "my_arr = quicksort(my_arr, 0, len(my_arr) - 1)\n",
    "\n",
    "my_arr"
   ]
  },
  {
   "attachments": {},
   "cell_type": "markdown",
   "metadata": {},
   "source": [
    "The while True loop in the partition function will stop when the condition if i >= j is met. The if statement checks if the left index i has crossed over the right index j. If this condition is true, it means that the portion of the array being partitioned has been divided into two sections: one with elements less than the pivot and another with elements greater than the pivot. In this case, the function partition will return the value of j, which is the index where the partition was made. This will allow the recursive calls to quicksort to sort the two partitions on either side of j. The while True loop acts as an infinite loop that only stops when the if condition is met and the return statement is executed.\n",
    "\n",
    "\n",
    "\n"
   ]
  }
 ],
 "metadata": {
  "kernelspec": {
   "display_name": "DSAvenv",
   "language": "python",
   "name": "python3"
  },
  "language_info": {
   "codemirror_mode": {
    "name": "ipython",
    "version": 3
   },
   "file_extension": ".py",
   "mimetype": "text/x-python",
   "name": "python",
   "nbconvert_exporter": "python",
   "pygments_lexer": "ipython3",
   "version": "3.10.5"
  },
  "orig_nbformat": 4,
  "vscode": {
   "interpreter": {
    "hash": "7d9651ea041a7f86d1708c134fe7b1576adb565cac3e8ba7f6dead5d30e55390"
   }
  }
 },
 "nbformat": 4,
 "nbformat_minor": 2
}
